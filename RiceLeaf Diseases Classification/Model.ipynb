{
 "cells": [
  {
   "cell_type": "code",
   "execution_count": 5,
   "metadata": {},
   "outputs": [],
   "source": [
    "import numpy as np\n",
    "import matplotlib.pyplot as plt\n",
    "from skimage import io\n",
    "%matplotlib inline"
   ]
  },
  {
   "cell_type": "code",
   "execution_count": 6,
   "metadata": {},
   "outputs": [],
   "source": [
    "np.random.seed(42)"
   ]
  },
  {
   "cell_type": "code",
   "execution_count": 7,
   "metadata": {},
   "outputs": [],
   "source": [
    "import os\n",
    "from skimage.transform import rescale, resize\n",
    "from skimage.feature import hog"
   ]
  },
  {
   "cell_type": "code",
   "execution_count": 8,
   "metadata": {},
   "outputs": [],
   "source": [
    "folders = ['Bacterial_leaf_blight', 'Brown_spot', 'Leaf_smut']\n",
    "image_vectors = []\n",
    "Labels = []\n",
    "for d in folders:\n",
    "    label = folders.index(d)\n",
    "    for file in os.listdir(f'data\\\\{d}'):\n",
    "        image = io.imread(f'data\\\\{d}\\\\{file}', as_gray=True)\n",
    "        for scaler in [1/2, 1/3]:\n",
    "            rescaled_image = rescale(image, scaler)\n",
    "            resized_image = resize(rescaled_image, (228,228))\n",
    "            hog_feature = hog(resized_image)\n",
    "            image_vectors.append(hog_feature)\n",
    "            Labels.append(label)"
   ]
  },
  {
   "cell_type": "code",
   "execution_count": 9,
   "metadata": {},
   "outputs": [],
   "source": [
    "feature_vectors = np.array(image_vectors)\n",
    "labels = np.array(Labels)"
   ]
  },
  {
   "cell_type": "code",
   "execution_count": 10,
   "metadata": {},
   "outputs": [
    {
     "data": {
      "text/plain": [
       "(240, 54756)"
      ]
     },
     "execution_count": 10,
     "metadata": {},
     "output_type": "execute_result"
    }
   ],
   "source": [
    "feature_vectors.shape"
   ]
  },
  {
   "cell_type": "code",
   "execution_count": 11,
   "metadata": {},
   "outputs": [],
   "source": [
    "# Spliting in Train, Test Set\n",
    "from sklearn.model_selection import train_test_split\n",
    "train_images, test_images, train_labels, test_labels = train_test_split(\n",
    "    feature_vectors, labels, test_size=0.25\n",
    ")"
   ]
  },
  {
   "cell_type": "code",
   "execution_count": 12,
   "metadata": {},
   "outputs": [
    {
     "data": {
      "text/plain": [
       "((180, 54756), (180,))"
      ]
     },
     "execution_count": 12,
     "metadata": {},
     "output_type": "execute_result"
    }
   ],
   "source": [
    "train_images.shape, train_labels.shape"
   ]
  },
  {
   "cell_type": "code",
   "execution_count": 13,
   "metadata": {},
   "outputs": [
    {
     "data": {
      "text/plain": [
       "(54756,)"
      ]
     },
     "execution_count": 13,
     "metadata": {},
     "output_type": "execute_result"
    }
   ],
   "source": [
    "train_images[0].shape"
   ]
  },
  {
   "cell_type": "markdown",
   "metadata": {},
   "source": [
    "# Logistic Regression"
   ]
  },
  {
   "cell_type": "code",
   "execution_count": 14,
   "metadata": {},
   "outputs": [
    {
     "data": {
      "text/plain": [
       "LogisticRegression(max_iter=5000)"
      ]
     },
     "execution_count": 14,
     "metadata": {},
     "output_type": "execute_result"
    }
   ],
   "source": [
    "from sklearn.linear_model import LogisticRegression\n",
    "model = LogisticRegression(max_iter=5000)\n",
    "model.fit(train_images, train_labels)"
   ]
  },
  {
   "cell_type": "code",
   "execution_count": 15,
   "metadata": {},
   "outputs": [
    {
     "name": "stderr",
     "output_type": "stream",
     "text": [
      "C:\\Users\\hp\\AppData\\Roaming\\Python\\Python310\\site-packages\\sklearn\\utils\\deprecation.py:87: FutureWarning: Function plot_confusion_matrix is deprecated; Function `plot_confusion_matrix` is deprecated in 1.0 and will be removed in 1.2. Use one of the class methods: ConfusionMatrixDisplay.from_predictions or ConfusionMatrixDisplay.from_estimator.\n",
      "  warnings.warn(msg, category=FutureWarning)\n"
     ]
    },
    {
     "data": {
      "text/plain": [
       "<sklearn.metrics._plot.confusion_matrix.ConfusionMatrixDisplay at 0x1c43cb01a50>"
      ]
     },
     "execution_count": 15,
     "metadata": {},
     "output_type": "execute_result"
    },
    {
     "data": {
      "image/png": "[encoded data removed]",
      "text/plain": [
       "<Figure size 432x288 with 2 Axes>"
      ]
     },
     "metadata": {
      "needs_background": "light"
     },
     "output_type": "display_data"
    }
   ],
   "source": [
    "from sklearn.metrics import accuracy_score, plot_confusion_matrix\n",
    "plot_confusion_matrix(model, test_images, test_labels)"
   ]
  },
  {
   "cell_type": "code",
   "execution_count": 16,
   "metadata": {},
   "outputs": [
    {
     "data": {
      "text/plain": [
       "0.9333333333333333"
      ]
     },
     "execution_count": 16,
     "metadata": {},
     "output_type": "execute_result"
    }
   ],
   "source": [
    "ypred = model.predict(test_images).astype(np.float64)\n",
    "accuracy_score(test_labels, ypred)"
   ]
  },
  {
   "cell_type": "markdown",
   "metadata": {},
   "source": [
    "# SVM"
   ]
  },
  {
   "cell_type": "code",
   "execution_count": 17,
   "metadata": {},
   "outputs": [
    {
     "data": {
      "text/plain": [
       "SVC()"
      ]
     },
     "execution_count": 17,
     "metadata": {},
     "output_type": "execute_result"
    }
   ],
   "source": [
    "from sklearn import svm\n",
    "svc = svm.SVC()\n",
    "svc.fit(train_images, train_labels)"
   ]
  },
  {
   "cell_type": "code",
   "execution_count": 18,
   "metadata": {},
   "outputs": [
    {
     "name": "stderr",
     "output_type": "stream",
     "text": [
      "C:\\Users\\hp\\AppData\\Roaming\\Python\\Python310\\site-packages\\sklearn\\utils\\deprecation.py:87: FutureWarning: Function plot_confusion_matrix is deprecated; Function `plot_confusion_matrix` is deprecated in 1.0 and will be removed in 1.2. Use one of the class methods: ConfusionMatrixDisplay.from_predictions or ConfusionMatrixDisplay.from_estimator.\n",
      "  warnings.warn(msg, category=FutureWarning)\n"
     ]
    },
    {
     "data": {
      "text/plain": [
       "<sklearn.metrics._plot.confusion_matrix.ConfusionMatrixDisplay at 0x1c43cabdde0>"
      ]
     },
     "execution_count": 18,
     "metadata": {},
     "output_type": "execute_result"
    },
    {
     "data": {
      "image/png": "[encoded data removed]",
      "text/plain": [
       "<Figure size 432x288 with 2 Axes>"
      ]
     },
     "metadata": {
      "needs_background": "light"
     },
     "output_type": "display_data"
    }
   ],
   "source": [
    "from sklearn.metrics import accuracy_score, plot_confusion_matrix\n",
    "plot_confusion_matrix(svc, test_images, test_labels)"
   ]
  },
  {
   "cell_type": "code",
   "execution_count": 19,
   "metadata": {},
   "outputs": [
    {
     "data": {
      "text/plain": [
       "0.9833333333333333"
      ]
     },
     "execution_count": 19,
     "metadata": {},
     "output_type": "execute_result"
    }
   ],
   "source": [
    "ypred = svc.predict(test_images).astype(np.float64)\n",
    "accuracy_score(test_labels, ypred)"
   ]
  },
  {
   "cell_type": "markdown",
   "metadata": {},
   "source": [
    "# Neural Network"
   ]
  },
  {
   "cell_type": "code",
   "execution_count": 20,
   "metadata": {},
   "outputs": [
    {
     "name": "stdout",
     "output_type": "stream",
     "text": [
      "Iteration 1, loss = 1.09925623\n",
      "Iteration 2, loss = 1.32554945\n",
      "Iteration 3, loss = 0.91623762\n",
      "Iteration 4, loss = 1.04235662\n",
      "Iteration 5, loss = 0.91090575\n",
      "Iteration 6, loss = 0.77051679\n",
      "Iteration 7, loss = 0.72921380\n",
      "Iteration 8, loss = 0.71506626\n",
      "Iteration 9, loss = 0.68783628\n",
      "Iteration 10, loss = 0.64244101\n",
      "Iteration 11, loss = 0.58916870\n",
      "Iteration 12, loss = 0.54132010\n",
      "Iteration 13, loss = 0.49995658\n",
      "Iteration 14, loss = 0.45580402\n",
      "Iteration 15, loss = 0.40844696\n",
      "Iteration 16, loss = 0.36618785\n",
      "Iteration 17, loss = 0.32901121\n",
      "Iteration 18, loss = 0.29283455\n",
      "Iteration 19, loss = 0.25695851\n",
      "Iteration 20, loss = 0.22306681\n",
      "Iteration 21, loss = 0.19025993\n",
      "Iteration 22, loss = 0.15998204\n",
      "Iteration 23, loss = 0.13493601\n",
      "Iteration 24, loss = 0.11455160\n",
      "Iteration 25, loss = 0.09689732\n",
      "Iteration 26, loss = 0.08159133\n",
      "Iteration 27, loss = 0.06893549\n",
      "Iteration 28, loss = 0.05874980\n",
      "Iteration 29, loss = 0.05048365\n",
      "Iteration 30, loss = 0.04369175\n",
      "Iteration 31, loss = 0.03807854\n",
      "Iteration 32, loss = 0.03343269\n",
      "Iteration 33, loss = 0.02955247\n",
      "Iteration 34, loss = 0.02629087\n",
      "Iteration 35, loss = 0.02355513\n",
      "Iteration 36, loss = 0.02126873\n",
      "Iteration 37, loss = 0.01935364\n",
      "Iteration 38, loss = 0.01774167\n",
      "Iteration 39, loss = 0.01637825\n",
      "Iteration 40, loss = 0.01521832\n",
      "Iteration 41, loss = 0.01422412\n",
      "Iteration 42, loss = 0.01336446\n",
      "Iteration 43, loss = 0.01261471\n",
      "Iteration 44, loss = 0.01195585\n",
      "Iteration 45, loss = 0.01137314\n",
      "Iteration 46, loss = 0.01085509\n",
      "Iteration 47, loss = 0.01039264\n",
      "Iteration 48, loss = 0.00997844\n",
      "Iteration 49, loss = 0.00960623\n",
      "Iteration 50, loss = 0.00927046\n",
      "Iteration 51, loss = 0.00896624\n",
      "Iteration 52, loss = 0.00868937\n",
      "Iteration 53, loss = 0.00843643\n",
      "Iteration 54, loss = 0.00820459\n",
      "Iteration 55, loss = 0.00799141\n",
      "Iteration 56, loss = 0.00779476\n",
      "Iteration 57, loss = 0.00761272\n",
      "Iteration 58, loss = 0.00744360\n",
      "Iteration 59, loss = 0.00728599\n",
      "Iteration 60, loss = 0.00713871\n",
      "Iteration 61, loss = 0.00700078\n",
      "Iteration 62, loss = 0.00687137\n",
      "Iteration 63, loss = 0.00674976\n",
      "Iteration 64, loss = 0.00663529\n",
      "Iteration 65, loss = 0.00652732\n",
      "Iteration 66, loss = 0.00642526\n",
      "Iteration 67, loss = 0.00632855\n",
      "Iteration 68, loss = 0.00623671\n",
      "Iteration 69, loss = 0.00614929\n",
      "Iteration 70, loss = 0.00606592\n",
      "Iteration 71, loss = 0.00598626\n",
      "Iteration 72, loss = 0.00591002\n",
      "Iteration 73, loss = 0.00583692\n",
      "Iteration 74, loss = 0.00576672\n",
      "Iteration 75, loss = 0.00569919\n",
      "Iteration 76, loss = 0.00563413\n",
      "Iteration 77, loss = 0.00557136\n",
      "Training loss did not improve more than tol=0.000100 for 10 consecutive epochs. Stopping.\n"
     ]
    },
    {
     "data": {
      "text/plain": [
       "MLPClassifier(activation='logistic', hidden_layer_sizes=(784, 228), verbose=2)"
      ]
     },
     "execution_count": 20,
     "metadata": {},
     "output_type": "execute_result"
    }
   ],
   "source": [
    "from sklearn.neural_network import MLPClassifier\n",
    "\n",
    "nn = MLPClassifier(activation='logistic',hidden_layer_sizes=(784, 228),verbose=2)\n",
    "nn.fit(train_images, train_labels)"
   ]
  },
  {
   "cell_type": "code",
   "execution_count": 21,
   "metadata": {},
   "outputs": [
    {
     "name": "stderr",
     "output_type": "stream",
     "text": [
      "C:\\Users\\hp\\AppData\\Roaming\\Python\\Python310\\site-packages\\sklearn\\utils\\deprecation.py:87: FutureWarning: Function plot_confusion_matrix is deprecated; Function `plot_confusion_matrix` is deprecated in 1.0 and will be removed in 1.2. Use one of the class methods: ConfusionMatrixDisplay.from_predictions or ConfusionMatrixDisplay.from_estimator.\n",
      "  warnings.warn(msg, category=FutureWarning)\n"
     ]
    },
    {
     "data": {
      "text/plain": [
       "<sklearn.metrics._plot.confusion_matrix.ConfusionMatrixDisplay at 0x1c44608e680>"
      ]
     },
     "execution_count": 21,
     "metadata": {},
     "output_type": "execute_result"
    },
    {
     "data": {
      "image/png": "[encoded data removed]",
      "text/plain": [
       "<Figure size 432x288 with 2 Axes>"
      ]
     },
     "metadata": {
      "needs_background": "light"
     },
     "output_type": "display_data"
    }
   ],
   "source": [
    "from sklearn.metrics import accuracy_score, plot_confusion_matrix\n",
    "plot_confusion_matrix(nn, test_images, test_labels)"
   ]
  },
  {
   "cell_type": "code",
   "execution_count": 22,
   "metadata": {},
   "outputs": [
    {
     "data": {
      "text/plain": [
       "0.9333333333333333"
      ]
     },
     "execution_count": 22,
     "metadata": {},
     "output_type": "execute_result"
    }
   ],
   "source": [
    "ypred = nn.predict(test_images).astype(np.float64)\n",
    "accuracy_score(test_labels, ypred)"
   ]
  },
  {
   "cell_type": "code",
   "execution_count": 23,
   "metadata": {},
   "outputs": [
    {
     "data": {
      "text/plain": [
       "['CropDiseaseClassifier']"
      ]
     },
     "execution_count": 23,
     "metadata": {},
     "output_type": "execute_result"
    }
   ],
   "source": [
    "from joblib import dump\n",
    "dump(nn, 'CropDiseaseClassifier')"
   ]
  }
 ],
 "metadata": {
  "interpreter": {
   "hash": "2be5faf79681da6f2a61fdfdd5405d65d042280f7fba6178067603e3a2925119"
  },
  "kernelspec": {
   "display_name": "Python 3.10.1 64-bit",
   "language": "python",
   "name": "python3"
  },
  "language_info": {
   "codemirror_mode": {
    "name": "ipython",
    "version": 3
   },
   "file_extension": ".py",
   "mimetype": "text/x-python",
   "name": "python",
   "nbconvert_exporter": "python",
   "pygments_lexer": "ipython3",
   "version": "3.10.1"
  },
  "orig_nbformat": 4
 },
 "nbformat": 4,
 "nbformat_minor": 2
}
